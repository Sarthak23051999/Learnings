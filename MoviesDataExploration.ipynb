{
 "cells": [
  {
   "cell_type": "code",
   "execution_count": 161,
   "id": "f7627ec1",
   "metadata": {},
   "outputs": [],
   "source": [
    "import pandas as pd\n",
    "import matplotlib.pyplot as plt\n",
    "from datetime import datetime\n",
    "import seaborn as sn"
   ]
  },
  {
   "cell_type": "code",
   "execution_count": 109,
   "id": "bf4e6fa6",
   "metadata": {},
   "outputs": [
    {
     "data": {
      "text/html": [
       "<div>\n",
       "<style scoped>\n",
       "    .dataframe tbody tr th:only-of-type {\n",
       "        vertical-align: middle;\n",
       "    }\n",
       "\n",
       "    .dataframe tbody tr th {\n",
       "        vertical-align: top;\n",
       "    }\n",
       "\n",
       "    .dataframe thead th {\n",
       "        text-align: right;\n",
       "    }\n",
       "</style>\n",
       "<table border=\"1\" class=\"dataframe\">\n",
       "  <thead>\n",
       "    <tr style=\"text-align: right;\">\n",
       "      <th></th>\n",
       "      <th>SlNo</th>\n",
       "      <th>Release Date</th>\n",
       "      <th>MovieName</th>\n",
       "      <th>ReleaseTime</th>\n",
       "      <th>Genre</th>\n",
       "      <th>Budget</th>\n",
       "      <th>BoxOfficeCollection</th>\n",
       "      <th>YoutubeViews</th>\n",
       "      <th>YoutubeLikes</th>\n",
       "      <th>YoutubeDislikes</th>\n",
       "    </tr>\n",
       "  </thead>\n",
       "  <tbody>\n",
       "    <tr>\n",
       "      <th>0</th>\n",
       "      <td>1</td>\n",
       "      <td>18-Apr-14</td>\n",
       "      <td>2 States</td>\n",
       "      <td>LW</td>\n",
       "      <td>Romance</td>\n",
       "      <td>36</td>\n",
       "      <td>104.00</td>\n",
       "      <td>8576361</td>\n",
       "      <td>26622</td>\n",
       "      <td>2527</td>\n",
       "    </tr>\n",
       "    <tr>\n",
       "      <th>1</th>\n",
       "      <td>2</td>\n",
       "      <td>4-Jan-13</td>\n",
       "      <td>Table No. 21</td>\n",
       "      <td>N</td>\n",
       "      <td>Thriller</td>\n",
       "      <td>10</td>\n",
       "      <td>12.00</td>\n",
       "      <td>1087320</td>\n",
       "      <td>1129</td>\n",
       "      <td>137</td>\n",
       "    </tr>\n",
       "    <tr>\n",
       "      <th>2</th>\n",
       "      <td>3</td>\n",
       "      <td>18-Jul-14</td>\n",
       "      <td>Amit Sahni Ki List</td>\n",
       "      <td>N</td>\n",
       "      <td>Comedy</td>\n",
       "      <td>10</td>\n",
       "      <td>4.00</td>\n",
       "      <td>572336</td>\n",
       "      <td>586</td>\n",
       "      <td>54</td>\n",
       "    </tr>\n",
       "    <tr>\n",
       "      <th>3</th>\n",
       "      <td>4</td>\n",
       "      <td>4-Jan-13</td>\n",
       "      <td>Rajdhani Express</td>\n",
       "      <td>N</td>\n",
       "      <td>Drama</td>\n",
       "      <td>7</td>\n",
       "      <td>0.35</td>\n",
       "      <td>42626</td>\n",
       "      <td>86</td>\n",
       "      <td>19</td>\n",
       "    </tr>\n",
       "    <tr>\n",
       "      <th>4</th>\n",
       "      <td>5</td>\n",
       "      <td>4-Jul-14</td>\n",
       "      <td>Bobby Jasoos</td>\n",
       "      <td>N</td>\n",
       "      <td>Comedy</td>\n",
       "      <td>18</td>\n",
       "      <td>10.80</td>\n",
       "      <td>3113427</td>\n",
       "      <td>4512</td>\n",
       "      <td>1224</td>\n",
       "    </tr>\n",
       "  </tbody>\n",
       "</table>\n",
       "</div>"
      ],
      "text/plain": [
       "   SlNo Release Date           MovieName ReleaseTime      Genre  Budget  \\\n",
       "0     1    18-Apr-14            2 States          LW    Romance      36   \n",
       "1     2     4-Jan-13        Table No. 21           N  Thriller       10   \n",
       "2     3    18-Jul-14  Amit Sahni Ki List           N     Comedy      10   \n",
       "3     4     4-Jan-13    Rajdhani Express           N     Drama        7   \n",
       "4     5     4-Jul-14        Bobby Jasoos           N     Comedy      18   \n",
       "\n",
       "   BoxOfficeCollection  YoutubeViews  YoutubeLikes  YoutubeDislikes  \n",
       "0               104.00       8576361         26622             2527  \n",
       "1                12.00       1087320          1129              137  \n",
       "2                 4.00        572336           586               54  \n",
       "3                 0.35         42626            86               19  \n",
       "4                10.80       3113427          4512             1224  "
      ]
     },
     "execution_count": 109,
     "metadata": {},
     "output_type": "execute_result"
    }
   ],
   "source": [
    "bollywood_df = pd.read_csv(\"C:/Term 3/Supervised learning with python/Codes-Data-Files/Machine Learning (Codes and Data Files)/Data/bollywood.csv\")\n",
    "bollywood_df.head()"
   ]
  },
  {
   "cell_type": "code",
   "execution_count": 110,
   "id": "20cbaf08",
   "metadata": {},
   "outputs": [
    {
     "data": {
      "text/html": [
       "<div>\n",
       "<style scoped>\n",
       "    .dataframe tbody tr th:only-of-type {\n",
       "        vertical-align: middle;\n",
       "    }\n",
       "\n",
       "    .dataframe tbody tr th {\n",
       "        vertical-align: top;\n",
       "    }\n",
       "\n",
       "    .dataframe thead th {\n",
       "        text-align: right;\n",
       "    }\n",
       "</style>\n",
       "<table border=\"1\" class=\"dataframe\">\n",
       "  <thead>\n",
       "    <tr style=\"text-align: right;\">\n",
       "      <th></th>\n",
       "      <th>Release Date</th>\n",
       "      <th>MovieName</th>\n",
       "      <th>ReleaseTime</th>\n",
       "      <th>Genre</th>\n",
       "      <th>Budget</th>\n",
       "      <th>BoxOfficeCollection</th>\n",
       "      <th>YoutubeViews</th>\n",
       "      <th>YoutubeLikes</th>\n",
       "      <th>YoutubeDislikes</th>\n",
       "    </tr>\n",
       "    <tr>\n",
       "      <th>SlNo</th>\n",
       "      <th></th>\n",
       "      <th></th>\n",
       "      <th></th>\n",
       "      <th></th>\n",
       "      <th></th>\n",
       "      <th></th>\n",
       "      <th></th>\n",
       "      <th></th>\n",
       "      <th></th>\n",
       "    </tr>\n",
       "  </thead>\n",
       "  <tbody>\n",
       "    <tr>\n",
       "      <th>1</th>\n",
       "      <td>18-Apr-14</td>\n",
       "      <td>2 States</td>\n",
       "      <td>LW</td>\n",
       "      <td>Romance</td>\n",
       "      <td>36</td>\n",
       "      <td>104.00</td>\n",
       "      <td>8576361</td>\n",
       "      <td>26622</td>\n",
       "      <td>2527</td>\n",
       "    </tr>\n",
       "    <tr>\n",
       "      <th>2</th>\n",
       "      <td>4-Jan-13</td>\n",
       "      <td>Table No. 21</td>\n",
       "      <td>N</td>\n",
       "      <td>Thriller</td>\n",
       "      <td>10</td>\n",
       "      <td>12.00</td>\n",
       "      <td>1087320</td>\n",
       "      <td>1129</td>\n",
       "      <td>137</td>\n",
       "    </tr>\n",
       "    <tr>\n",
       "      <th>3</th>\n",
       "      <td>18-Jul-14</td>\n",
       "      <td>Amit Sahni Ki List</td>\n",
       "      <td>N</td>\n",
       "      <td>Comedy</td>\n",
       "      <td>10</td>\n",
       "      <td>4.00</td>\n",
       "      <td>572336</td>\n",
       "      <td>586</td>\n",
       "      <td>54</td>\n",
       "    </tr>\n",
       "    <tr>\n",
       "      <th>4</th>\n",
       "      <td>4-Jan-13</td>\n",
       "      <td>Rajdhani Express</td>\n",
       "      <td>N</td>\n",
       "      <td>Drama</td>\n",
       "      <td>7</td>\n",
       "      <td>0.35</td>\n",
       "      <td>42626</td>\n",
       "      <td>86</td>\n",
       "      <td>19</td>\n",
       "    </tr>\n",
       "    <tr>\n",
       "      <th>5</th>\n",
       "      <td>4-Jul-14</td>\n",
       "      <td>Bobby Jasoos</td>\n",
       "      <td>N</td>\n",
       "      <td>Comedy</td>\n",
       "      <td>18</td>\n",
       "      <td>10.80</td>\n",
       "      <td>3113427</td>\n",
       "      <td>4512</td>\n",
       "      <td>1224</td>\n",
       "    </tr>\n",
       "  </tbody>\n",
       "</table>\n",
       "</div>"
      ],
      "text/plain": [
       "     Release Date           MovieName ReleaseTime      Genre  Budget  \\\n",
       "SlNo                                                                   \n",
       "1       18-Apr-14            2 States          LW    Romance      36   \n",
       "2        4-Jan-13        Table No. 21           N  Thriller       10   \n",
       "3       18-Jul-14  Amit Sahni Ki List           N     Comedy      10   \n",
       "4        4-Jan-13    Rajdhani Express           N     Drama        7   \n",
       "5        4-Jul-14        Bobby Jasoos           N     Comedy      18   \n",
       "\n",
       "      BoxOfficeCollection  YoutubeViews  YoutubeLikes  YoutubeDislikes  \n",
       "SlNo                                                                    \n",
       "1                  104.00       8576361         26622             2527  \n",
       "2                   12.00       1087320          1129              137  \n",
       "3                    4.00        572336           586               54  \n",
       "4                    0.35         42626            86               19  \n",
       "5                   10.80       3113427          4512             1224  "
      ]
     },
     "execution_count": 110,
     "metadata": {},
     "output_type": "execute_result"
    }
   ],
   "source": [
    "bollywood_df = bollywood_df.set_index(\"SlNo\")\n",
    "bollywood_df.head()"
   ]
  },
  {
   "cell_type": "code",
   "execution_count": 111,
   "id": "d30ca487",
   "metadata": {},
   "outputs": [
    {
     "data": {
      "text/plain": [
       "149"
      ]
     },
     "execution_count": 111,
     "metadata": {},
     "output_type": "execute_result"
    }
   ],
   "source": [
    "len(bollywood_df)"
   ]
  },
  {
   "cell_type": "code",
   "execution_count": 112,
   "id": "90a66d4f",
   "metadata": {},
   "outputs": [
    {
     "name": "stdout",
     "output_type": "stream",
     "text": [
      "<class 'pandas.core.frame.DataFrame'>\n",
      "Index: 149 entries, 1 to 149\n",
      "Data columns (total 9 columns):\n",
      " #   Column               Non-Null Count  Dtype  \n",
      "---  ------               --------------  -----  \n",
      " 0   Release Date         149 non-null    object \n",
      " 1   MovieName            149 non-null    object \n",
      " 2   ReleaseTime          149 non-null    object \n",
      " 3   Genre                149 non-null    object \n",
      " 4   Budget               149 non-null    int64  \n",
      " 5   BoxOfficeCollection  149 non-null    float64\n",
      " 6   YoutubeViews         149 non-null    int64  \n",
      " 7   YoutubeLikes         149 non-null    int64  \n",
      " 8   YoutubeDislikes      149 non-null    int64  \n",
      "dtypes: float64(1), int64(4), object(4)\n",
      "memory usage: 11.6+ KB\n"
     ]
    }
   ],
   "source": [
    "bollywood_df.info()"
   ]
  },
  {
   "cell_type": "code",
   "execution_count": 113,
   "id": "761cb934",
   "metadata": {},
   "outputs": [
    {
     "data": {
      "text/plain": [
       "array(['Romance', 'Thriller', 'Comedy', 'Drama', 'Action'], dtype=object)"
      ]
     },
     "execution_count": 113,
     "metadata": {},
     "output_type": "execute_result"
    }
   ],
   "source": [
    "GenList = []\n",
    "for x in bollywood_df[\"Genre\"]:\n",
    "    GenList.append(x.strip())\n",
    "GenSer = pd.Series(GenList)\n",
    "GenSer.index = [index+1 for index in GenSer.index]\n",
    "bollywood_df[\"Genre\"] = GenSer\n",
    "bollywood_df[\"Genre\"].unique()"
   ]
  },
  {
   "cell_type": "code",
   "execution_count": 114,
   "id": "40220b7e",
   "metadata": {},
   "outputs": [
    {
     "data": {
      "text/plain": [
       "Genre\n",
       "Comedy      36\n",
       "Drama       35\n",
       "Thriller    29\n",
       "Romance     25\n",
       "Action      24\n",
       "Name: count, dtype: int64"
      ]
     },
     "execution_count": 114,
     "metadata": {},
     "output_type": "execute_result"
    }
   ],
   "source": [
    "bollywood_df[\"Genre\"].value_counts()\n",
    "#comedy genre has highest number of movies "
   ]
  },
  {
   "cell_type": "code",
   "execution_count": 115,
   "id": "ab697ba0",
   "metadata": {},
   "outputs": [],
   "source": [
    "gen_count = bollywood_df[\"Genre\"].value_counts()"
   ]
  },
  {
   "cell_type": "code",
   "execution_count": 116,
   "id": "396ec018",
   "metadata": {},
   "outputs": [
    {
     "data": {
      "text/plain": [
       "array(['Romance', 'Thriller', 'Comedy', 'Drama', 'Action'], dtype=object)"
      ]
     },
     "execution_count": 116,
     "metadata": {},
     "output_type": "execute_result"
    }
   ],
   "source": [
    "bollywood_df[\"Genre\"].unique()"
   ]
  },
  {
   "cell_type": "code",
   "execution_count": 117,
   "id": "f839fdb1",
   "metadata": {},
   "outputs": [
    {
     "data": {
      "text/html": [
       "<div>\n",
       "<style scoped>\n",
       "    .dataframe tbody tr th:only-of-type {\n",
       "        vertical-align: middle;\n",
       "    }\n",
       "\n",
       "    .dataframe tbody tr th {\n",
       "        vertical-align: top;\n",
       "    }\n",
       "\n",
       "    .dataframe thead th {\n",
       "        text-align: right;\n",
       "    }\n",
       "</style>\n",
       "<table border=\"1\" class=\"dataframe\">\n",
       "  <thead>\n",
       "    <tr style=\"text-align: right;\">\n",
       "      <th></th>\n",
       "      <th>Release Date</th>\n",
       "      <th>MovieName</th>\n",
       "      <th>ReleaseTime</th>\n",
       "      <th>Genre</th>\n",
       "      <th>Budget</th>\n",
       "      <th>BoxOfficeCollection</th>\n",
       "      <th>YoutubeViews</th>\n",
       "      <th>YoutubeLikes</th>\n",
       "      <th>YoutubeDislikes</th>\n",
       "    </tr>\n",
       "    <tr>\n",
       "      <th>SlNo</th>\n",
       "      <th></th>\n",
       "      <th></th>\n",
       "      <th></th>\n",
       "      <th></th>\n",
       "      <th></th>\n",
       "      <th></th>\n",
       "      <th></th>\n",
       "      <th></th>\n",
       "      <th></th>\n",
       "    </tr>\n",
       "  </thead>\n",
       "  <tbody>\n",
       "    <tr>\n",
       "      <th>1</th>\n",
       "      <td>18-Apr-14</td>\n",
       "      <td>2 States</td>\n",
       "      <td>LW</td>\n",
       "      <td>Romance</td>\n",
       "      <td>36</td>\n",
       "      <td>104.00</td>\n",
       "      <td>8576361</td>\n",
       "      <td>26622</td>\n",
       "      <td>2527</td>\n",
       "    </tr>\n",
       "    <tr>\n",
       "      <th>2</th>\n",
       "      <td>4-Jan-13</td>\n",
       "      <td>Table No. 21</td>\n",
       "      <td>N</td>\n",
       "      <td>Thriller</td>\n",
       "      <td>10</td>\n",
       "      <td>12.00</td>\n",
       "      <td>1087320</td>\n",
       "      <td>1129</td>\n",
       "      <td>137</td>\n",
       "    </tr>\n",
       "    <tr>\n",
       "      <th>3</th>\n",
       "      <td>18-Jul-14</td>\n",
       "      <td>Amit Sahni Ki List</td>\n",
       "      <td>N</td>\n",
       "      <td>Comedy</td>\n",
       "      <td>10</td>\n",
       "      <td>4.00</td>\n",
       "      <td>572336</td>\n",
       "      <td>586</td>\n",
       "      <td>54</td>\n",
       "    </tr>\n",
       "    <tr>\n",
       "      <th>4</th>\n",
       "      <td>4-Jan-13</td>\n",
       "      <td>Rajdhani Express</td>\n",
       "      <td>N</td>\n",
       "      <td>Drama</td>\n",
       "      <td>7</td>\n",
       "      <td>0.35</td>\n",
       "      <td>42626</td>\n",
       "      <td>86</td>\n",
       "      <td>19</td>\n",
       "    </tr>\n",
       "    <tr>\n",
       "      <th>5</th>\n",
       "      <td>4-Jul-14</td>\n",
       "      <td>Bobby Jasoos</td>\n",
       "      <td>N</td>\n",
       "      <td>Comedy</td>\n",
       "      <td>18</td>\n",
       "      <td>10.80</td>\n",
       "      <td>3113427</td>\n",
       "      <td>4512</td>\n",
       "      <td>1224</td>\n",
       "    </tr>\n",
       "    <tr>\n",
       "      <th>...</th>\n",
       "      <td>...</td>\n",
       "      <td>...</td>\n",
       "      <td>...</td>\n",
       "      <td>...</td>\n",
       "      <td>...</td>\n",
       "      <td>...</td>\n",
       "      <td>...</td>\n",
       "      <td>...</td>\n",
       "      <td>...</td>\n",
       "    </tr>\n",
       "    <tr>\n",
       "      <th>145</th>\n",
       "      <td>27-Feb-15</td>\n",
       "      <td>Dum Laga Ke Haisha</td>\n",
       "      <td>N</td>\n",
       "      <td>Comedy</td>\n",
       "      <td>15</td>\n",
       "      <td>30.00</td>\n",
       "      <td>3250917</td>\n",
       "      <td>8185</td>\n",
       "      <td>615</td>\n",
       "    </tr>\n",
       "    <tr>\n",
       "      <th>146</th>\n",
       "      <td>13-Mar-15</td>\n",
       "      <td>NH10</td>\n",
       "      <td>N</td>\n",
       "      <td>Thriller</td>\n",
       "      <td>13</td>\n",
       "      <td>32.10</td>\n",
       "      <td>5592977</td>\n",
       "      <td>15464</td>\n",
       "      <td>1513</td>\n",
       "    </tr>\n",
       "    <tr>\n",
       "      <th>147</th>\n",
       "      <td>20-Mar-15</td>\n",
       "      <td>Dilliwali Zaalim Girlfriend</td>\n",
       "      <td>N</td>\n",
       "      <td>Comedy</td>\n",
       "      <td>32</td>\n",
       "      <td>12.00</td>\n",
       "      <td>2316047</td>\n",
       "      <td>4289</td>\n",
       "      <td>807</td>\n",
       "    </tr>\n",
       "    <tr>\n",
       "      <th>148</th>\n",
       "      <td>20-Mar-15</td>\n",
       "      <td>Hunterrr</td>\n",
       "      <td>N</td>\n",
       "      <td>Comedy</td>\n",
       "      <td>5</td>\n",
       "      <td>11.89</td>\n",
       "      <td>4674795</td>\n",
       "      <td>3706</td>\n",
       "      <td>762</td>\n",
       "    </tr>\n",
       "    <tr>\n",
       "      <th>149</th>\n",
       "      <td>23-May-14</td>\n",
       "      <td>Kochadaiiyaan</td>\n",
       "      <td>HS</td>\n",
       "      <td>Action</td>\n",
       "      <td>150</td>\n",
       "      <td>120.00</td>\n",
       "      <td>4740727</td>\n",
       "      <td>13466</td>\n",
       "      <td>2649</td>\n",
       "    </tr>\n",
       "  </tbody>\n",
       "</table>\n",
       "<p>149 rows × 9 columns</p>\n",
       "</div>"
      ],
      "text/plain": [
       "     Release Date                    MovieName ReleaseTime     Genre  Budget  \\\n",
       "SlNo                                                                           \n",
       "1       18-Apr-14                     2 States          LW   Romance      36   \n",
       "2        4-Jan-13                 Table No. 21           N  Thriller      10   \n",
       "3       18-Jul-14           Amit Sahni Ki List           N    Comedy      10   \n",
       "4        4-Jan-13             Rajdhani Express           N     Drama       7   \n",
       "5        4-Jul-14                 Bobby Jasoos           N    Comedy      18   \n",
       "...           ...                          ...         ...       ...     ...   \n",
       "145     27-Feb-15           Dum Laga Ke Haisha           N    Comedy      15   \n",
       "146     13-Mar-15                         NH10           N  Thriller      13   \n",
       "147     20-Mar-15  Dilliwali Zaalim Girlfriend           N    Comedy      32   \n",
       "148     20-Mar-15                     Hunterrr           N    Comedy       5   \n",
       "149     23-May-14                Kochadaiiyaan          HS    Action     150   \n",
       "\n",
       "      BoxOfficeCollection  YoutubeViews  YoutubeLikes  YoutubeDislikes  \n",
       "SlNo                                                                    \n",
       "1                  104.00       8576361         26622             2527  \n",
       "2                   12.00       1087320          1129              137  \n",
       "3                    4.00        572336           586               54  \n",
       "4                    0.35         42626            86               19  \n",
       "5                   10.80       3113427          4512             1224  \n",
       "...                   ...           ...           ...              ...  \n",
       "145                 30.00       3250917          8185              615  \n",
       "146                 32.10       5592977         15464             1513  \n",
       "147                 12.00       2316047          4289              807  \n",
       "148                 11.89       4674795          3706              762  \n",
       "149                120.00       4740727         13466             2649  \n",
       "\n",
       "[149 rows x 9 columns]"
      ]
     },
     "execution_count": 117,
     "metadata": {},
     "output_type": "execute_result"
    }
   ],
   "source": [
    "bollywood_df"
   ]
  },
  {
   "cell_type": "code",
   "execution_count": 118,
   "id": "7c29ab19",
   "metadata": {
    "scrolled": true
   },
   "outputs": [
    {
     "data": {
      "image/png": "[encoded data removed]",
      "text/plain": [
       "<Figure size 640x480 with 1 Axes>"
      ]
     },
     "metadata": {},
     "output_type": "display_data"
    }
   ],
   "source": [
    "plt.bar(gen_count.index,gen_count.values)\n",
    "plt.xlabel(\"Number of movies\")\n",
    "plt.ylabel(\"Genre\")\n",
    "plt.show()"
   ]
  },
  {
   "cell_type": "code",
   "execution_count": 119,
   "id": "16f53d16",
   "metadata": {},
   "outputs": [
    {
     "data": {
      "text/html": [
       "<div>\n",
       "<style scoped>\n",
       "    .dataframe tbody tr th:only-of-type {\n",
       "        vertical-align: middle;\n",
       "    }\n",
       "\n",
       "    .dataframe tbody tr th {\n",
       "        vertical-align: top;\n",
       "    }\n",
       "\n",
       "    .dataframe thead th {\n",
       "        text-align: right;\n",
       "    }\n",
       "</style>\n",
       "<table border=\"1\" class=\"dataframe\">\n",
       "  <thead>\n",
       "    <tr style=\"text-align: right;\">\n",
       "      <th>ReleaseTime</th>\n",
       "      <th>FS</th>\n",
       "      <th>HS</th>\n",
       "      <th>LW</th>\n",
       "      <th>N</th>\n",
       "    </tr>\n",
       "    <tr>\n",
       "      <th>Genre</th>\n",
       "      <th></th>\n",
       "      <th></th>\n",
       "      <th></th>\n",
       "      <th></th>\n",
       "    </tr>\n",
       "  </thead>\n",
       "  <tbody>\n",
       "    <tr>\n",
       "      <th>Action</th>\n",
       "      <td>3</td>\n",
       "      <td>3</td>\n",
       "      <td>3</td>\n",
       "      <td>15</td>\n",
       "    </tr>\n",
       "    <tr>\n",
       "      <th>Comedy</th>\n",
       "      <td>3</td>\n",
       "      <td>5</td>\n",
       "      <td>5</td>\n",
       "      <td>23</td>\n",
       "    </tr>\n",
       "    <tr>\n",
       "      <th>Drama</th>\n",
       "      <td>4</td>\n",
       "      <td>6</td>\n",
       "      <td>1</td>\n",
       "      <td>24</td>\n",
       "    </tr>\n",
       "    <tr>\n",
       "      <th>Romance</th>\n",
       "      <td>3</td>\n",
       "      <td>3</td>\n",
       "      <td>4</td>\n",
       "      <td>15</td>\n",
       "    </tr>\n",
       "    <tr>\n",
       "      <th>Thriller</th>\n",
       "      <td>4</td>\n",
       "      <td>1</td>\n",
       "      <td>2</td>\n",
       "      <td>22</td>\n",
       "    </tr>\n",
       "  </tbody>\n",
       "</table>\n",
       "</div>"
      ],
      "text/plain": [
       "ReleaseTime  FS  HS  LW   N\n",
       "Genre                      \n",
       "Action        3   3   3  15\n",
       "Comedy        3   5   5  23\n",
       "Drama         4   6   1  24\n",
       "Romance       3   3   4  15\n",
       "Thriller      4   1   2  22"
      ]
     },
     "execution_count": 119,
     "metadata": {},
     "output_type": "execute_result"
    }
   ],
   "source": [
    "pd.crosstab(bollywood_df[\"Genre\"],bollywood_df['ReleaseTime'])"
   ]
  },
  {
   "cell_type": "code",
   "execution_count": 97,
   "id": "f645ea38",
   "metadata": {},
   "outputs": [
    {
     "data": {
      "text/plain": [
       "str"
      ]
     },
     "execution_count": 97,
     "metadata": {},
     "output_type": "execute_result"
    }
   ],
   "source": [
    "type(bollywood_df[\"Release Date\"].iloc[0])"
   ]
  },
  {
   "cell_type": "code",
   "execution_count": 129,
   "id": "0ab88850",
   "metadata": {},
   "outputs": [
    {
     "data": {
      "text/plain": [
       "0      4\n",
       "1      1\n",
       "2      7\n",
       "3      1\n",
       "4      7\n",
       "      ..\n",
       "144    2\n",
       "145    3\n",
       "146    3\n",
       "147    3\n",
       "148    5\n",
       "Length: 149, dtype: int64"
      ]
     },
     "execution_count": 129,
     "metadata": {},
     "output_type": "execute_result"
    }
   ],
   "source": [
    "extract_months = []\n",
    "for x in bollywood_df[\"Release Date\"]:\n",
    "    extract_months.append(datetime.strptime(x,\"%d-%b-%y\").month)\n",
    "monthSer = pd.Series(extract_months)\n",
    "monthSer\n",
    "\n",
    "    "
   ]
  },
  {
   "cell_type": "code",
   "execution_count": 130,
   "id": "740452af",
   "metadata": {},
   "outputs": [],
   "source": [
    "monthSer.index = [index+1 for index in monthSer.index]"
   ]
  },
  {
   "cell_type": "code",
   "execution_count": 131,
   "id": "a8ca9e0c",
   "metadata": {},
   "outputs": [
    {
     "data": {
      "text/plain": [
       "1      4\n",
       "2      1\n",
       "3      7\n",
       "4      1\n",
       "5      7\n",
       "      ..\n",
       "145    2\n",
       "146    3\n",
       "147    3\n",
       "148    3\n",
       "149    5\n",
       "Length: 149, dtype: int64"
      ]
     },
     "execution_count": 131,
     "metadata": {},
     "output_type": "execute_result"
    }
   ],
   "source": [
    "monthSer"
   ]
  },
  {
   "cell_type": "code",
   "execution_count": 132,
   "id": "3a60fa38",
   "metadata": {},
   "outputs": [],
   "source": [
    "bollywood_df['Release Month'] = monthSer"
   ]
  },
  {
   "cell_type": "code",
   "execution_count": 133,
   "id": "4dfa7745",
   "metadata": {},
   "outputs": [
    {
     "data": {
      "text/html": [
       "<div>\n",
       "<style scoped>\n",
       "    .dataframe tbody tr th:only-of-type {\n",
       "        vertical-align: middle;\n",
       "    }\n",
       "\n",
       "    .dataframe tbody tr th {\n",
       "        vertical-align: top;\n",
       "    }\n",
       "\n",
       "    .dataframe thead th {\n",
       "        text-align: right;\n",
       "    }\n",
       "</style>\n",
       "<table border=\"1\" class=\"dataframe\">\n",
       "  <thead>\n",
       "    <tr style=\"text-align: right;\">\n",
       "      <th></th>\n",
       "      <th>Release Date</th>\n",
       "      <th>MovieName</th>\n",
       "      <th>ReleaseTime</th>\n",
       "      <th>Genre</th>\n",
       "      <th>Budget</th>\n",
       "      <th>BoxOfficeCollection</th>\n",
       "      <th>YoutubeViews</th>\n",
       "      <th>YoutubeLikes</th>\n",
       "      <th>YoutubeDislikes</th>\n",
       "      <th>Release Month</th>\n",
       "    </tr>\n",
       "    <tr>\n",
       "      <th>SlNo</th>\n",
       "      <th></th>\n",
       "      <th></th>\n",
       "      <th></th>\n",
       "      <th></th>\n",
       "      <th></th>\n",
       "      <th></th>\n",
       "      <th></th>\n",
       "      <th></th>\n",
       "      <th></th>\n",
       "      <th></th>\n",
       "    </tr>\n",
       "  </thead>\n",
       "  <tbody>\n",
       "    <tr>\n",
       "      <th>1</th>\n",
       "      <td>18-Apr-14</td>\n",
       "      <td>2 States</td>\n",
       "      <td>LW</td>\n",
       "      <td>Romance</td>\n",
       "      <td>36</td>\n",
       "      <td>104.00</td>\n",
       "      <td>8576361</td>\n",
       "      <td>26622</td>\n",
       "      <td>2527</td>\n",
       "      <td>4</td>\n",
       "    </tr>\n",
       "    <tr>\n",
       "      <th>2</th>\n",
       "      <td>4-Jan-13</td>\n",
       "      <td>Table No. 21</td>\n",
       "      <td>N</td>\n",
       "      <td>Thriller</td>\n",
       "      <td>10</td>\n",
       "      <td>12.00</td>\n",
       "      <td>1087320</td>\n",
       "      <td>1129</td>\n",
       "      <td>137</td>\n",
       "      <td>1</td>\n",
       "    </tr>\n",
       "    <tr>\n",
       "      <th>3</th>\n",
       "      <td>18-Jul-14</td>\n",
       "      <td>Amit Sahni Ki List</td>\n",
       "      <td>N</td>\n",
       "      <td>Comedy</td>\n",
       "      <td>10</td>\n",
       "      <td>4.00</td>\n",
       "      <td>572336</td>\n",
       "      <td>586</td>\n",
       "      <td>54</td>\n",
       "      <td>7</td>\n",
       "    </tr>\n",
       "    <tr>\n",
       "      <th>4</th>\n",
       "      <td>4-Jan-13</td>\n",
       "      <td>Rajdhani Express</td>\n",
       "      <td>N</td>\n",
       "      <td>Drama</td>\n",
       "      <td>7</td>\n",
       "      <td>0.35</td>\n",
       "      <td>42626</td>\n",
       "      <td>86</td>\n",
       "      <td>19</td>\n",
       "      <td>1</td>\n",
       "    </tr>\n",
       "    <tr>\n",
       "      <th>5</th>\n",
       "      <td>4-Jul-14</td>\n",
       "      <td>Bobby Jasoos</td>\n",
       "      <td>N</td>\n",
       "      <td>Comedy</td>\n",
       "      <td>18</td>\n",
       "      <td>10.80</td>\n",
       "      <td>3113427</td>\n",
       "      <td>4512</td>\n",
       "      <td>1224</td>\n",
       "      <td>7</td>\n",
       "    </tr>\n",
       "    <tr>\n",
       "      <th>...</th>\n",
       "      <td>...</td>\n",
       "      <td>...</td>\n",
       "      <td>...</td>\n",
       "      <td>...</td>\n",
       "      <td>...</td>\n",
       "      <td>...</td>\n",
       "      <td>...</td>\n",
       "      <td>...</td>\n",
       "      <td>...</td>\n",
       "      <td>...</td>\n",
       "    </tr>\n",
       "    <tr>\n",
       "      <th>145</th>\n",
       "      <td>27-Feb-15</td>\n",
       "      <td>Dum Laga Ke Haisha</td>\n",
       "      <td>N</td>\n",
       "      <td>Comedy</td>\n",
       "      <td>15</td>\n",
       "      <td>30.00</td>\n",
       "      <td>3250917</td>\n",
       "      <td>8185</td>\n",
       "      <td>615</td>\n",
       "      <td>2</td>\n",
       "    </tr>\n",
       "    <tr>\n",
       "      <th>146</th>\n",
       "      <td>13-Mar-15</td>\n",
       "      <td>NH10</td>\n",
       "      <td>N</td>\n",
       "      <td>Thriller</td>\n",
       "      <td>13</td>\n",
       "      <td>32.10</td>\n",
       "      <td>5592977</td>\n",
       "      <td>15464</td>\n",
       "      <td>1513</td>\n",
       "      <td>3</td>\n",
       "    </tr>\n",
       "    <tr>\n",
       "      <th>147</th>\n",
       "      <td>20-Mar-15</td>\n",
       "      <td>Dilliwali Zaalim Girlfriend</td>\n",
       "      <td>N</td>\n",
       "      <td>Comedy</td>\n",
       "      <td>32</td>\n",
       "      <td>12.00</td>\n",
       "      <td>2316047</td>\n",
       "      <td>4289</td>\n",
       "      <td>807</td>\n",
       "      <td>3</td>\n",
       "    </tr>\n",
       "    <tr>\n",
       "      <th>148</th>\n",
       "      <td>20-Mar-15</td>\n",
       "      <td>Hunterrr</td>\n",
       "      <td>N</td>\n",
       "      <td>Comedy</td>\n",
       "      <td>5</td>\n",
       "      <td>11.89</td>\n",
       "      <td>4674795</td>\n",
       "      <td>3706</td>\n",
       "      <td>762</td>\n",
       "      <td>3</td>\n",
       "    </tr>\n",
       "    <tr>\n",
       "      <th>149</th>\n",
       "      <td>23-May-14</td>\n",
       "      <td>Kochadaiiyaan</td>\n",
       "      <td>HS</td>\n",
       "      <td>Action</td>\n",
       "      <td>150</td>\n",
       "      <td>120.00</td>\n",
       "      <td>4740727</td>\n",
       "      <td>13466</td>\n",
       "      <td>2649</td>\n",
       "      <td>5</td>\n",
       "    </tr>\n",
       "  </tbody>\n",
       "</table>\n",
       "<p>149 rows × 10 columns</p>\n",
       "</div>"
      ],
      "text/plain": [
       "     Release Date                    MovieName ReleaseTime     Genre  Budget  \\\n",
       "SlNo                                                                           \n",
       "1       18-Apr-14                     2 States          LW   Romance      36   \n",
       "2        4-Jan-13                 Table No. 21           N  Thriller      10   \n",
       "3       18-Jul-14           Amit Sahni Ki List           N    Comedy      10   \n",
       "4        4-Jan-13             Rajdhani Express           N     Drama       7   \n",
       "5        4-Jul-14                 Bobby Jasoos           N    Comedy      18   \n",
       "...           ...                          ...         ...       ...     ...   \n",
       "145     27-Feb-15           Dum Laga Ke Haisha           N    Comedy      15   \n",
       "146     13-Mar-15                         NH10           N  Thriller      13   \n",
       "147     20-Mar-15  Dilliwali Zaalim Girlfriend           N    Comedy      32   \n",
       "148     20-Mar-15                     Hunterrr           N    Comedy       5   \n",
       "149     23-May-14                Kochadaiiyaan          HS    Action     150   \n",
       "\n",
       "      BoxOfficeCollection  YoutubeViews  YoutubeLikes  YoutubeDislikes  \\\n",
       "SlNo                                                                     \n",
       "1                  104.00       8576361         26622             2527   \n",
       "2                   12.00       1087320          1129              137   \n",
       "3                    4.00        572336           586               54   \n",
       "4                    0.35         42626            86               19   \n",
       "5                   10.80       3113427          4512             1224   \n",
       "...                   ...           ...           ...              ...   \n",
       "145                 30.00       3250917          8185              615   \n",
       "146                 32.10       5592977         15464             1513   \n",
       "147                 12.00       2316047          4289              807   \n",
       "148                 11.89       4674795          3706              762   \n",
       "149                120.00       4740727         13466             2649   \n",
       "\n",
       "      Release Month  \n",
       "SlNo                 \n",
       "1                 4  \n",
       "2                 1  \n",
       "3                 7  \n",
       "4                 1  \n",
       "5                 7  \n",
       "...             ...  \n",
       "145               2  \n",
       "146               3  \n",
       "147               3  \n",
       "148               3  \n",
       "149               5  \n",
       "\n",
       "[149 rows x 10 columns]"
      ]
     },
     "execution_count": 133,
     "metadata": {},
     "output_type": "execute_result"
    }
   ],
   "source": [
    "bollywood_df"
   ]
  },
  {
   "cell_type": "code",
   "execution_count": 134,
   "id": "7d77c85c",
   "metadata": {},
   "outputs": [
    {
     "data": {
      "text/plain": [
       "Release Month\n",
       "1     20\n",
       "3     19\n",
       "5     18\n",
       "7     16\n",
       "2     16\n",
       "4     11\n",
       "9     10\n",
       "6     10\n",
       "11    10\n",
       "10     9\n",
       "8      8\n",
       "12     2\n",
       "Name: count, dtype: int64"
      ]
     },
     "execution_count": 134,
     "metadata": {},
     "output_type": "execute_result"
    }
   ],
   "source": [
    "bollywood_df[\"Release Month\"].value_counts()"
   ]
  },
  {
   "cell_type": "code",
   "execution_count": 136,
   "id": "1ce61a36",
   "metadata": {},
   "outputs": [
    {
     "data": {
      "image/png": "[encoded data removed]",
      "text/plain": [
       "<Figure size 640x480 with 1 Axes>"
      ]
     },
     "metadata": {},
     "output_type": "display_data"
    }
   ],
   "source": [
    "plt.bar(bollywood_df[\"Release Month\"].value_counts().index,bollywood_df[\"Release Month\"].value_counts().values)\n",
    "plt.ylabel(\"Number of movies\")\n",
    "plt.xlabel(\"Month\")\n",
    "plt.show()"
   ]
  },
  {
   "cell_type": "markdown",
   "id": "f2ad51c8",
   "metadata": {},
   "source": [
    "Here we can see the maximum number of movies are released in january"
   ]
  },
  {
   "cell_type": "code",
   "execution_count": 138,
   "id": "703fbf5d",
   "metadata": {},
   "outputs": [
    {
     "data": {
      "image/png": "[encoded data removed]",
      "text/plain": [
       "<Figure size 640x480 with 1 Axes>"
      ]
     },
     "metadata": {},
     "output_type": "display_data"
    }
   ],
   "source": [
    "highBudMov = bollywood_df[bollywood_df[\"Budget\"]>=25]\n",
    "plt.bar(highBudMov[\"Release Month\"].value_counts().index,highBudMov[\"Release Month\"].value_counts().values)\n",
    "plt.ylabel(\"Number of movies\")\n",
    "plt.xlabel(\"Month\")\n",
    "plt.show()"
   ]
  },
  {
   "cell_type": "markdown",
   "id": "3344b324",
   "metadata": {},
   "source": [
    "Maximum number of high budget movies are released in month of Feburary"
   ]
  },
  {
   "cell_type": "code",
   "execution_count": 143,
   "id": "b10a2e49",
   "metadata": {},
   "outputs": [
    {
     "data": {
      "text/html": [
       "<div>\n",
       "<style scoped>\n",
       "    .dataframe tbody tr th:only-of-type {\n",
       "        vertical-align: middle;\n",
       "    }\n",
       "\n",
       "    .dataframe tbody tr th {\n",
       "        vertical-align: top;\n",
       "    }\n",
       "\n",
       "    .dataframe thead th {\n",
       "        text-align: right;\n",
       "    }\n",
       "</style>\n",
       "<table border=\"1\" class=\"dataframe\">\n",
       "  <thead>\n",
       "    <tr style=\"text-align: right;\">\n",
       "      <th></th>\n",
       "      <th>Release Date</th>\n",
       "      <th>MovieName</th>\n",
       "      <th>ReleaseTime</th>\n",
       "      <th>Genre</th>\n",
       "      <th>Budget</th>\n",
       "      <th>BoxOfficeCollection</th>\n",
       "      <th>YoutubeViews</th>\n",
       "      <th>YoutubeLikes</th>\n",
       "      <th>YoutubeDislikes</th>\n",
       "      <th>Release Month</th>\n",
       "      <th>ROI</th>\n",
       "    </tr>\n",
       "    <tr>\n",
       "      <th>SlNo</th>\n",
       "      <th></th>\n",
       "      <th></th>\n",
       "      <th></th>\n",
       "      <th></th>\n",
       "      <th></th>\n",
       "      <th></th>\n",
       "      <th></th>\n",
       "      <th></th>\n",
       "      <th></th>\n",
       "      <th></th>\n",
       "      <th></th>\n",
       "    </tr>\n",
       "  </thead>\n",
       "  <tbody>\n",
       "    <tr>\n",
       "      <th>65</th>\n",
       "      <td>26-Apr-13</td>\n",
       "      <td>Aashiqui 2</td>\n",
       "      <td>N</td>\n",
       "      <td>Romance</td>\n",
       "      <td>12</td>\n",
       "      <td>110.0</td>\n",
       "      <td>2926673</td>\n",
       "      <td>4944</td>\n",
       "      <td>628</td>\n",
       "      <td>4</td>\n",
       "      <td>8.166667</td>\n",
       "    </tr>\n",
       "    <tr>\n",
       "      <th>90</th>\n",
       "      <td>19-Dec-14</td>\n",
       "      <td>PK</td>\n",
       "      <td>HS</td>\n",
       "      <td>Drama</td>\n",
       "      <td>85</td>\n",
       "      <td>735.0</td>\n",
       "      <td>13270623</td>\n",
       "      <td>43767</td>\n",
       "      <td>5693</td>\n",
       "      <td>12</td>\n",
       "      <td>7.647059</td>\n",
       "    </tr>\n",
       "    <tr>\n",
       "      <th>133</th>\n",
       "      <td>13-Sep-13</td>\n",
       "      <td>Grand Masti</td>\n",
       "      <td>LW</td>\n",
       "      <td>Comedy</td>\n",
       "      <td>35</td>\n",
       "      <td>298.0</td>\n",
       "      <td>1795640</td>\n",
       "      <td>3015</td>\n",
       "      <td>721</td>\n",
       "      <td>9</td>\n",
       "      <td>7.514286</td>\n",
       "    </tr>\n",
       "    <tr>\n",
       "      <th>136</th>\n",
       "      <td>20-Sep-13</td>\n",
       "      <td>The Lunchbox</td>\n",
       "      <td>N</td>\n",
       "      <td>Drama</td>\n",
       "      <td>10</td>\n",
       "      <td>85.0</td>\n",
       "      <td>1064854</td>\n",
       "      <td>4054</td>\n",
       "      <td>285</td>\n",
       "      <td>9</td>\n",
       "      <td>7.500000</td>\n",
       "    </tr>\n",
       "    <tr>\n",
       "      <th>88</th>\n",
       "      <td>14-Jun-13</td>\n",
       "      <td>Fukrey</td>\n",
       "      <td>N</td>\n",
       "      <td>Comedy</td>\n",
       "      <td>5</td>\n",
       "      <td>36.2</td>\n",
       "      <td>227912</td>\n",
       "      <td>222</td>\n",
       "      <td>39</td>\n",
       "      <td>6</td>\n",
       "      <td>6.240000</td>\n",
       "    </tr>\n",
       "    <tr>\n",
       "      <th>59</th>\n",
       "      <td>5-Sep-14</td>\n",
       "      <td>Mary Kom</td>\n",
       "      <td>N</td>\n",
       "      <td>Drama</td>\n",
       "      <td>15</td>\n",
       "      <td>104.0</td>\n",
       "      <td>6086811</td>\n",
       "      <td>26560</td>\n",
       "      <td>1647</td>\n",
       "      <td>9</td>\n",
       "      <td>5.933333</td>\n",
       "    </tr>\n",
       "    <tr>\n",
       "      <th>129</th>\n",
       "      <td>18-Oct-13</td>\n",
       "      <td>Shahid</td>\n",
       "      <td>FS</td>\n",
       "      <td>Drama</td>\n",
       "      <td>6</td>\n",
       "      <td>40.0</td>\n",
       "      <td>1148516</td>\n",
       "      <td>3155</td>\n",
       "      <td>396</td>\n",
       "      <td>10</td>\n",
       "      <td>5.666667</td>\n",
       "    </tr>\n",
       "    <tr>\n",
       "      <th>38</th>\n",
       "      <td>11-Jul-14</td>\n",
       "      <td>Humpty Sharma Ki Dulhania</td>\n",
       "      <td>N</td>\n",
       "      <td>Romance</td>\n",
       "      <td>20</td>\n",
       "      <td>130.0</td>\n",
       "      <td>6604595</td>\n",
       "      <td>14535</td>\n",
       "      <td>2208</td>\n",
       "      <td>7</td>\n",
       "      <td>5.500000</td>\n",
       "    </tr>\n",
       "    <tr>\n",
       "      <th>102</th>\n",
       "      <td>12-Jul-13</td>\n",
       "      <td>Bhaag Milkha Bhaag</td>\n",
       "      <td>N</td>\n",
       "      <td>Drama</td>\n",
       "      <td>30</td>\n",
       "      <td>164.0</td>\n",
       "      <td>2635390</td>\n",
       "      <td>4622</td>\n",
       "      <td>456</td>\n",
       "      <td>7</td>\n",
       "      <td>4.466667</td>\n",
       "    </tr>\n",
       "    <tr>\n",
       "      <th>116</th>\n",
       "      <td>9-Aug-13</td>\n",
       "      <td>Chennai Express</td>\n",
       "      <td>FS</td>\n",
       "      <td>Comedy</td>\n",
       "      <td>75</td>\n",
       "      <td>395.0</td>\n",
       "      <td>1882346</td>\n",
       "      <td>7954</td>\n",
       "      <td>1593</td>\n",
       "      <td>8</td>\n",
       "      <td>4.266667</td>\n",
       "    </tr>\n",
       "  </tbody>\n",
       "</table>\n",
       "</div>"
      ],
      "text/plain": [
       "     Release Date                  MovieName ReleaseTime    Genre  Budget  \\\n",
       "SlNo                                                                        \n",
       "65      26-Apr-13                 Aashiqui 2           N  Romance      12   \n",
       "90      19-Dec-14                         PK          HS    Drama      85   \n",
       "133     13-Sep-13                Grand Masti          LW   Comedy      35   \n",
       "136     20-Sep-13               The Lunchbox           N    Drama      10   \n",
       "88      14-Jun-13                     Fukrey           N   Comedy       5   \n",
       "59       5-Sep-14                   Mary Kom           N    Drama      15   \n",
       "129     18-Oct-13                     Shahid          FS    Drama       6   \n",
       "38      11-Jul-14  Humpty Sharma Ki Dulhania           N  Romance      20   \n",
       "102     12-Jul-13         Bhaag Milkha Bhaag           N    Drama      30   \n",
       "116      9-Aug-13            Chennai Express          FS   Comedy      75   \n",
       "\n",
       "      BoxOfficeCollection  YoutubeViews  YoutubeLikes  YoutubeDislikes  \\\n",
       "SlNo                                                                     \n",
       "65                  110.0       2926673          4944              628   \n",
       "90                  735.0      13270623         43767             5693   \n",
       "133                 298.0       1795640          3015              721   \n",
       "136                  85.0       1064854          4054              285   \n",
       "88                   36.2        227912           222               39   \n",
       "59                  104.0       6086811         26560             1647   \n",
       "129                  40.0       1148516          3155              396   \n",
       "38                  130.0       6604595         14535             2208   \n",
       "102                 164.0       2635390          4622              456   \n",
       "116                 395.0       1882346          7954             1593   \n",
       "\n",
       "      Release Month       ROI  \n",
       "SlNo                           \n",
       "65                4  8.166667  \n",
       "90               12  7.647059  \n",
       "133               9  7.514286  \n",
       "136               9  7.500000  \n",
       "88                6  6.240000  \n",
       "59                9  5.933333  \n",
       "129              10  5.666667  \n",
       "38                7  5.500000  \n",
       "102               7  4.466667  \n",
       "116               8  4.266667  "
      ]
     },
     "execution_count": 143,
     "metadata": {},
     "output_type": "execute_result"
    }
   ],
   "source": [
    "bollywood_df[\"ROI\"] = (bollywood_df[\"BoxOfficeCollection\"] - bollywood_df[\"Budget\"])/bollywood_df[\"Budget\"]\n",
    "top10MoviesByROI = bollywood_df.sort_values(by = \"ROI\",ascending = False)\n",
    "top10MoviesByROI.head(10)"
   ]
  },
  {
   "cell_type": "code",
   "execution_count": 145,
   "id": "5597e191",
   "metadata": {},
   "outputs": [
    {
     "data": {
      "image/png": "[encoded data removed]",
      "text/plain": [
       "<Figure size 640x480 with 1 Axes>"
      ]
     },
     "metadata": {},
     "output_type": "display_data"
    }
   ],
   "source": [
    "releaseTimeROI = bollywood_df.groupby(\"ReleaseTime\")[\"ROI\"].mean()\n",
    "plt.bar(releaseTimeROI.index,releaseTimeROI.values)\n",
    "plt.xlabel(\"Release Time\")\n",
    "plt.ylabel(\"Average ROI\")\n",
    "plt.show()\n"
   ]
  },
  {
   "cell_type": "markdown",
   "id": "06e3dacd",
   "metadata": {},
   "source": [
    "Here we can see that movies released during Long weekend have higher ROI. This helps in further deciding the appropriate time during which the movie should be released\n"
   ]
  },
  {
   "cell_type": "code",
   "execution_count": 149,
   "id": "dc7ded52",
   "metadata": {},
   "outputs": [
    {
     "data": {
      "image/png": "[encoded data removed]",
      "text/plain": [
       "<Figure size 640x480 with 1 Axes>"
      ]
     },
     "metadata": {},
     "output_type": "display_data"
    }
   ],
   "source": [
    "plt.hist(bollywood_df[\"Budget\"],bins=50)\n",
    "plt.xlabel(\"Budget of movies\")\n",
    "plt.ylabel(\"Count of movies\")\n",
    "plt.show()"
   ]
  },
  {
   "cell_type": "markdown",
   "id": "c4514771",
   "metadata": {},
   "source": [
    "From the graph we can see that most movies are low budgeted."
   ]
  },
  {
   "cell_type": "code",
   "execution_count": 163,
   "id": "e70d1cb2",
   "metadata": {},
   "outputs": [
    {
     "name": "stderr",
     "output_type": "stream",
     "text": [
      "C:\\Users\\sarth\\AppData\\Local\\Temp\\ipykernel_17868\\717525324.py:1: UserWarning: \n",
      "\n",
      "`distplot` is a deprecated function and will be removed in seaborn v0.14.0.\n",
      "\n",
      "Please adapt your code to use either `displot` (a figure-level function with\n",
      "similar flexibility) or `histplot` (an axes-level function for histograms).\n",
      "\n",
      "For a guide to updating your code to use the new functions, please see\n",
      "https://gist.github.com/mwaskom/de44147ed2974457ad6372750bbe5751\n",
      "\n",
      "  sn.distplot(bollywood_df[bollywood_df[\"Genre\"]==\"Comedy\"][\"Budget\"],bins=20)\n"
     ]
    },
    {
     "data": {
      "image/png": "[encoded data removed]",
      "text/plain": [
       "<Figure size 640x480 with 1 Axes>"
      ]
     },
     "metadata": {},
     "output_type": "display_data"
    }
   ],
   "source": [
    "sn.distplot(bollywood_df[bollywood_df[\"Genre\"]==\"Comedy\"][\"Budget\"],bins=20)\n",
    "plt.xlabel(\"Budget of movies\")\n",
    "plt.ylabel(\"Count of movies\")\n",
    "plt.show()"
   ]
  },
  {
   "cell_type": "code",
   "execution_count": 167,
   "id": "f5ae2b14",
   "metadata": {},
   "outputs": [
    {
     "name": "stderr",
     "output_type": "stream",
     "text": [
      "C:\\Users\\sarth\\AppData\\Local\\Temp\\ipykernel_17868\\1306739047.py:1: UserWarning: \n",
      "\n",
      "`distplot` is a deprecated function and will be removed in seaborn v0.14.0.\n",
      "\n",
      "Please adapt your code to use either `displot` (a figure-level function with\n",
      "similar flexibility) or `histplot` (an axes-level function for histograms).\n",
      "\n",
      "For a guide to updating your code to use the new functions, please see\n",
      "https://gist.github.com/mwaskom/de44147ed2974457ad6372750bbe5751\n",
      "\n",
      "  sn.distplot(bollywood_df[bollywood_df[\"Genre\"]==\"Drama\"][\"Budget\"],bins=20,color  = \"r\",label = \"Drama\")\n",
      "C:\\Users\\sarth\\AppData\\Local\\Temp\\ipykernel_17868\\1306739047.py:2: UserWarning: \n",
      "\n",
      "`distplot` is a deprecated function and will be removed in seaborn v0.14.0.\n",
      "\n",
      "Please adapt your code to use either `displot` (a figure-level function with\n",
      "similar flexibility) or `histplot` (an axes-level function for histograms).\n",
      "\n",
      "For a guide to updating your code to use the new functions, please see\n",
      "https://gist.github.com/mwaskom/de44147ed2974457ad6372750bbe5751\n",
      "\n",
      "  sn.distplot(bollywood_df[bollywood_df[\"Genre\"]==\"Comedy\"][\"Budget\"],bins=20,color  = \"y\",label = \"Comedy\")\n"
     ]
    },
    {
     "data": {
      "image/png": "[encoded data removed]",
      "text/plain": [
       "<Figure size 640x480 with 1 Axes>"
      ]
     },
     "metadata": {},
     "output_type": "display_data"
    }
   ],
   "source": [
    "sn.distplot(bollywood_df[bollywood_df[\"Genre\"]==\"Drama\"][\"Budget\"],bins=20,color  = \"r\",label = \"Drama\")\n",
    "sn.distplot(bollywood_df[bollywood_df[\"Genre\"]==\"Comedy\"][\"Budget\"],bins=20,color  = \"y\",label = \"Comedy\")\n",
    "plt.xlabel(\"Budget of movies\")\n",
    "plt.ylabel(\"Count of movies\")\n",
    "plt.show()"
   ]
  },
  {
   "cell_type": "markdown",
   "id": "a772eff1",
   "metadata": {},
   "source": [
    "Here we can see that distribution for budget is same both for comedy and drama movies"
   ]
  },
  {
   "cell_type": "code",
   "execution_count": 169,
   "id": "17d20cf3",
   "metadata": {},
   "outputs": [
    {
     "data": {
      "text/plain": [
       "<Axes: xlabel='YoutubeLikes', ylabel='BoxOfficeCollection'>"
      ]
     },
     "execution_count": 169,
     "metadata": {},
     "output_type": "execute_result"
    },
    {
     "data": {
      "image/png": "[encoded data removed]",
      "text/plain": [
       "<Figure size 640x480 with 1 Axes>"
      ]
     },
     "metadata": {},
     "output_type": "display_data"
    }
   ],
   "source": [
    "sn.regplot(x = \"YoutubeLikes\",y = \"BoxOfficeCollection\",data = bollywood_df)\n"
   ]
  },
  {
   "cell_type": "markdown",
   "id": "86794bec",
   "metadata": {},
   "source": [
    "There is a positive co-relation between youtube likes and Box office collection"
   ]
  },
  {
   "cell_type": "code",
   "execution_count": 170,
   "id": "8ad652c1",
   "metadata": {},
   "outputs": [
    {
     "data": {
      "text/plain": [
       "<Axes: xlabel='Genre', ylabel='BoxOfficeCollection'>"
      ]
     },
     "execution_count": 170,
     "metadata": {},
     "output_type": "execute_result"
    },
    {
     "data": {
      "image/png": "[encoded data removed]",
      "text/plain": [
       "<Figure size 640x480 with 1 Axes>"
      ]
     },
     "metadata": {},
     "output_type": "display_data"
    }
   ],
   "source": [
    "sn.boxplot(x=\"Genre\",y = \"BoxOfficeCollection\",data=bollywood_df)"
   ]
  },
  {
   "cell_type": "code",
   "execution_count": 172,
   "id": "ddf749bd",
   "metadata": {},
   "outputs": [
    {
     "data": {
      "text/plain": [
       "Index(['Release Date', 'MovieName', 'ReleaseTime', 'Genre', 'Budget',\n",
       "       'BoxOfficeCollection', 'YoutubeViews', 'YoutubeLikes',\n",
       "       'YoutubeDislikes', 'Release Month', 'ROI'],\n",
       "      dtype='object')"
      ]
     },
     "execution_count": 172,
     "metadata": {},
     "output_type": "execute_result"
    }
   ],
   "source": [
    "bollywood_df.columns"
   ]
  },
  {
   "cell_type": "code",
   "execution_count": 174,
   "id": "02052b99",
   "metadata": {},
   "outputs": [
    {
     "data": {
      "text/html": [
       "<div>\n",
       "<style scoped>\n",
       "    .dataframe tbody tr th:only-of-type {\n",
       "        vertical-align: middle;\n",
       "    }\n",
       "\n",
       "    .dataframe tbody tr th {\n",
       "        vertical-align: top;\n",
       "    }\n",
       "\n",
       "    .dataframe thead th {\n",
       "        text-align: right;\n",
       "    }\n",
       "</style>\n",
       "<table border=\"1\" class=\"dataframe\">\n",
       "  <thead>\n",
       "    <tr style=\"text-align: right;\">\n",
       "      <th></th>\n",
       "      <th>BoxOfficeCollection</th>\n",
       "      <th>YoutubeViews</th>\n",
       "      <th>Budget</th>\n",
       "      <th>YoutubeLikes</th>\n",
       "      <th>YoutubeDislikes</th>\n",
       "    </tr>\n",
       "  </thead>\n",
       "  <tbody>\n",
       "    <tr>\n",
       "      <th>BoxOfficeCollection</th>\n",
       "      <td>1.000000</td>\n",
       "      <td>0.588632</td>\n",
       "      <td>0.650401</td>\n",
       "      <td>0.682517</td>\n",
       "      <td>0.623941</td>\n",
       "    </tr>\n",
       "    <tr>\n",
       "      <th>YoutubeViews</th>\n",
       "      <td>0.588632</td>\n",
       "      <td>1.000000</td>\n",
       "      <td>0.589038</td>\n",
       "      <td>0.884055</td>\n",
       "      <td>0.846739</td>\n",
       "    </tr>\n",
       "    <tr>\n",
       "      <th>Budget</th>\n",
       "      <td>0.650401</td>\n",
       "      <td>0.589038</td>\n",
       "      <td>1.000000</td>\n",
       "      <td>0.608916</td>\n",
       "      <td>0.665343</td>\n",
       "    </tr>\n",
       "    <tr>\n",
       "      <th>YoutubeLikes</th>\n",
       "      <td>0.682517</td>\n",
       "      <td>0.884055</td>\n",
       "      <td>0.608916</td>\n",
       "      <td>1.000000</td>\n",
       "      <td>0.859730</td>\n",
       "    </tr>\n",
       "    <tr>\n",
       "      <th>YoutubeDislikes</th>\n",
       "      <td>0.623941</td>\n",
       "      <td>0.846739</td>\n",
       "      <td>0.665343</td>\n",
       "      <td>0.859730</td>\n",
       "      <td>1.000000</td>\n",
       "    </tr>\n",
       "  </tbody>\n",
       "</table>\n",
       "</div>"
      ],
      "text/plain": [
       "                     BoxOfficeCollection  YoutubeViews    Budget  \\\n",
       "BoxOfficeCollection             1.000000      0.588632  0.650401   \n",
       "YoutubeViews                    0.588632      1.000000  0.589038   \n",
       "Budget                          0.650401      0.589038  1.000000   \n",
       "YoutubeLikes                    0.682517      0.884055  0.608916   \n",
       "YoutubeDislikes                 0.623941      0.846739  0.665343   \n",
       "\n",
       "                     YoutubeLikes  YoutubeDislikes  \n",
       "BoxOfficeCollection      0.682517         0.623941  \n",
       "YoutubeViews             0.884055         0.846739  \n",
       "Budget                   0.608916         0.665343  \n",
       "YoutubeLikes             1.000000         0.859730  \n",
       "YoutubeDislikes          0.859730         1.000000  "
      ]
     },
     "execution_count": 174,
     "metadata": {},
     "output_type": "execute_result"
    }
   ],
   "source": [
    "InvestigatingVariables = ['BoxOfficeCollection','YoutubeViews','Budget','YoutubeLikes','YoutubeDislikes']\n",
    "bollywood_df[InvestigatingVariables].corr()\n"
   ]
  },
  {
   "cell_type": "code",
   "execution_count": 175,
   "id": "7668222c",
   "metadata": {},
   "outputs": [
    {
     "data": {
      "text/plain": [
       "<Axes: >"
      ]
     },
     "execution_count": 175,
     "metadata": {},
     "output_type": "execute_result"
    },
    {
     "data": {
      "image/png": "[encoded data removed]",
      "text/plain": [
       "<Figure size 640x480 with 2 Axes>"
      ]
     },
     "metadata": {},
     "output_type": "display_data"
    }
   ],
   "source": [
    "sn.heatmap(bollywood_df[InvestigatingVariables].corr(),annot=True)"
   ]
  }
 ],
 "metadata": {
  "kernelspec": {
   "display_name": "Python 3 (ipykernel)",
   "language": "python",
   "name": "python3"
  },
  "language_info": {
   "codemirror_mode": {
    "name": "ipython",
    "version": 3
   },
   "file_extension": ".py",
   "mimetype": "text/x-python",
   "name": "python",
   "nbconvert_exporter": "python",
   "pygments_lexer": "ipython3",
   "version": "3.11.5"
  }
 },
 "nbformat": 4,
 "nbformat_minor": 5
}
